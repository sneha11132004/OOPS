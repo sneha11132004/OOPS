{
  "nbformat": 4,
  "nbformat_minor": 0,
  "metadata": {
    "colab": {
      "provenance": []
    },
    "kernelspec": {
      "name": "python3",
      "display_name": "Python 3"
    },
    "language_info": {
      "name": "python"
    }
  },
  "cells": [
    {
      "cell_type": "markdown",
      "source": [
        "#Oops\n"
      ],
      "metadata": {
        "id": "zKap6E-8Aubu"
      }
    },
    {
      "cell_type": "markdown",
      "source": [
        "1.What is Object-Oriented Programming (OOP)?\n",
        "\n",
        "-Object-Oriented Programming (OOP) is a programming paradigm where the program is organized around objects rather than functions and logic. Objects represent real-world entities and encapsulate data (attributes) and behavior (methods).\n",
        "Key features: Encapsulation, Abstraction, Inheritance, and Polymorphism.\n",
        "Example: Python, Java, and C++ support OOP.\n",
        "\n",
        "\n",
        "\n"
      ],
      "metadata": {
        "id": "2_ZUsJzLA6qB"
      }
    },
    {
      "cell_type": "markdown",
      "source": [
        "2.What is a class in OOP?\n",
        "\n",
        "- A  class is a blueprint or template that defines the properties (attributes) and behaviors (methods) of objects.\n",
        "eg:-"
      ],
      "metadata": {
        "id": "HTYvviElGtUQ"
      }
    },
    {
      "cell_type": "code",
      "source": [
        "class Car:\n",
        "    def _init(self, brand):\n",
        "        self.brand = brand\n",
        "\n",
        "    def drive(self):\n",
        "        print(\"Car is driving\")\n",
        "\n",
        "my_Car = Car()\n",
        "my_Car.drive()"
      ],
      "metadata": {
        "id": "pDs4v6nWHDH1",
        "colab": {
          "base_uri": "https://localhost:8080/"
        },
        "outputId": "2bbf539b-7e59-442f-e9a2-fffcb54af66c"
      },
      "execution_count": 111,
      "outputs": [
        {
          "output_type": "stream",
          "name": "stdout",
          "text": [
            "Car is driving\n"
          ]
        }
      ]
    },
    {
      "cell_type": "markdown",
      "source": [
        "3.What is an object in OOP?\n",
        "\n",
        "-An object is an instance of a class. It has its own unique data and can use the methods defined in the class.\n",
        "Example:\n",
        "\n",
        "my_car = Car(\"Toyota\")\n",
        "my_car.drive()\n",
        "\n",
        "Here, my_car is an object.\n"
      ],
      "metadata": {
        "id": "smkCt6RQHRdr"
      }
    },
    {
      "cell_type": "markdown",
      "source": [
        "4.What is the difference between abstraction and encapsulation?\n",
        "\n",
        "-Abstraction: Hides the complex implementation details and only exposes the necessary features to the user.\n",
        "Example: Using a len() function without knowing its internal code.\n",
        "\n",
        "Encapsulation: Bundles data and methods into a single unit (class) and restricts access to internal data using access modifiers.\n",
        "Example: Private attributes using __attribute.Abstraction: Hides the complex implementation details and only exposes the necessary features to the user.\n",
        "Example: Using a len() function without knowing its internal code.\n",
        "\n",
        "Encapsulation: Bundles data and methods into a single unit (class) and restricts access to internal data using access modifiers.\n",
        "Example: Private attributes using __attribute."
      ],
      "metadata": {
        "id": "cukwl32eLHbW"
      }
    },
    {
      "cell_type": "markdown",
      "source": [
        "5.What are dunder methods in Python?\n",
        "\n",
        "-Dunder methods (double underscore methods) are special methods in Python that begin and end with __. They allow customization of object behavior.\n",
        "Examples:\n",
        "\n",
        "_init_ → Constructor\n",
        "\n",
        "_str_ → String representation of an object\n",
        "\n",
        "_len_ → Returns length when using len(obj)"
      ],
      "metadata": {
        "id": "FrGsTzOlMCye"
      }
    },
    {
      "cell_type": "markdown",
      "source": [
        "6.Explain the concept of inheritance in OOPS?\n",
        "\n",
        "-Inheritance is a mechanism where one class (child or derived class) inherits attributes and methods from another class (parent or base class). It promotes code reusability.\n",
        "Example:\n",
        "\n"
      ],
      "metadata": {
        "id": "oZcr-TPbMJr1"
      }
    },
    {
      "cell_type": "code",
      "source": [
        "class Animal:\n",
        "    def sound(self):\n",
        "        print(\"Animal makes a sound\")\n",
        "\n",
        "class Dog(Animal):\n",
        "    def sound(self):\n",
        "        print(\"Dog barks\")\n",
        "\n",
        "a = Animal()\n",
        "d = Dog()\n",
        "a.sound()\n",
        "d.sound()"
      ],
      "metadata": {
        "id": "yL3uqljxMmPl",
        "colab": {
          "base_uri": "https://localhost:8080/"
        },
        "outputId": "cb9ffcf3-8d84-48b6-8823-40ea34d1dfc6"
      },
      "execution_count": 112,
      "outputs": [
        {
          "output_type": "stream",
          "name": "stdout",
          "text": [
            "Animal makes a sound\n",
            "Dog barks\n"
          ]
        }
      ]
    },
    {
      "cell_type": "markdown",
      "source": [
        "7.What is polymorphism in OOP?\n",
        "\n",
        "-Polymorphism means \"many forms\". It allows the same method or operation to behave differently depending on the object that invokes it.\n",
        "Example:\n",
        "\n",
        "for animal in [Dog(), Cat()]:\n",
        "    animal.sound()"
      ],
      "metadata": {
        "id": "O9Ec3uHkNm5I"
      }
    },
    {
      "cell_type": "markdown",
      "source": [
        "8.How is encapsulation achieved in Python?\n",
        "\n",
        "-Encapsulation is achieved by:\n",
        "\n",
        "Using private (__var) and protected (_var) attributes to restrict direct access.\n",
        "Providing getter and setter methods.Encapsulation is achieved by:\n",
        "Using private (__var) and protected (_var) attributes to restrict direct access.\n",
        "Providing getter and setter methods."
      ],
      "metadata": {
        "id": "MhmObQbnNu6e"
      }
    },
    {
      "cell_type": "markdown",
      "source": [
        "9.What is a constructor in Python?\n",
        "\n",
        "-A constructor is a special method _init_ that is automatically called when a new object is created. It initializes object attributes.\n",
        "\n",
        "class Student:\n",
        "    def _init_(self, name):\n",
        "        self.name = name\n",
        "\n",
        "\n"
      ],
      "metadata": {
        "id": "6tLw7BTcN81P"
      }
    },
    {
      "cell_type": "markdown",
      "source": [
        "10.H What are class and static methods in Python?\n",
        "\n",
        "-Class Methods: Defined using @classmethod, take cls as the first parameter, and can modify class-level data.\n",
        "\n",
        "Static Methods: Defined using @staticmethod, do not take self or cls and act like regular functions but belong to the class.\n",
        "\n"
      ],
      "metadata": {
        "id": "qHQm1Rx0OHRs"
      }
    },
    {
      "cell_type": "markdown",
      "source": [
        "11.What is method overloading in Python?\n",
        "\n",
        "-Method Overloading means having multiple methods with the same name but different parameters.\n",
        "\n",
        "Python does not support traditional overloading, but it can be simulated using default arguments or *args.Method Overloading means having multiple methods with the same name but different parameters.\n",
        "\n",
        "Python does not support traditional overloading, but it can be simulated using default arguments or *args."
      ],
      "metadata": {
        "id": "VN2ejASxOPw9"
      }
    },
    {
      "cell_type": "markdown",
      "source": [
        "12.H What is method overriding in OOP?\n",
        "\n",
        "-Method overriding is an OOP feature where a child class provides its own specific implementation of a method that is already defined in its parent class. When an object of the child class calls the method, Python uses the child class’s version instead of the parent’s.\n",
        "This supports runtime polymorphism.Method overriding is an OOP feature where a child class provides its own specific implementation of a method that is already defined in its parent class. When an object of the child class calls the method, Python uses the child class’s version instead of the parent’s.\n",
        "This supports runtime polymorphism."
      ],
      "metadata": {
        "id": "67dGgu6aOWLd"
      }
    },
    {
      "cell_type": "markdown",
      "source": [
        "13.What is a property decorator in Python?\n",
        "\n",
        "-The @property decorator is used to make a method behave like an attribute. It allows encapsulation by controlling how attributes are accessed and modified without changing the external interface. You can also define setter and deleter using @<property_name>.setter and @<property_name>.deleter."
      ],
      "metadata": {
        "id": "sDkpsUVLPBEc"
      }
    },
    {
      "cell_type": "markdown",
      "source": [
        "14.Why is polymorphism important in OOP?\n",
        "\n",
        "-Polymorphism is the ability of different classes to respond to the same method name in their own way. It promotes:\n",
        "\n",
        "Code reusability by using common interfaces\n",
        "\n",
        "Flexibility since new classes can be added without altering existing code\n",
        "\n",
        "Simplified maintenance because the same method name works across classes\n",
        "It is a core concept that allows designing loosely coupled and scalable systems.\n"
      ],
      "metadata": {
        "id": "LkAKAqHrPJ5z"
      }
    },
    {
      "cell_type": "markdown",
      "source": [
        "15.What is an abstract class in Python?\n",
        "\n",
        "-An abstract class is a class that cannot be instantiated directly. It can define abstract methods, which are declared but do not have an implementation. Subclasses must provide implementations for these abstract methods.\n",
        "In Python, you create abstract classes using the ABC (Abstract Base Class) from the abc module."
      ],
      "metadata": {
        "id": "jqXDJcPVPbBW"
      }
    },
    {
      "cell_type": "markdown",
      "source": [
        "16.What are the advantages of OOP?\n",
        "\n",
        "-OOP offers several advantages:\n",
        "\n",
        "1. Encapsulation: Protects data from direct access.\n",
        "2. Inheritance: Promotes code reusability.\n",
        "3. Polymorphism: Enhances flexibility by allowing different objects to use the same interface.\n",
        "4. Abstraction: Hides unnecessary details.\n",
        "5. Easier Maintenance: Modular code structure makes it easy to modify and extend.\n"
      ],
      "metadata": {
        "id": "mhGYLbTzPhqc"
      }
    },
    {
      "cell_type": "markdown",
      "source": [
        "17. What is the difference between a class variable and an instance variable?\n",
        "\n",
        "-Class Variables: Belong to the class and are shared across all objects of that class. Changing it affects all objects.\n",
        "\n",
        "Instance Variables: Belong to a specific object (instance). Each object has its own copy.Class Variables: Belong to the class and are shared across all objects of that class. Changing it affects all objects.\n",
        "\n",
        "Instance Variables: Belong to a specific object (instance). Each object has its own copy."
      ],
      "metadata": {
        "id": "FAIFHroTPwEz"
      }
    },
    {
      "cell_type": "markdown",
      "source": [
        "18.What is multiple inheritance in Python?\n",
        "\n",
        "-Multiple inheritance is when a class inherits attributes and methods from more than one parent class.\n",
        "Python uses Method Resolution Order (MRO) to determine the order in which parent classes are searched for methods."
      ],
      "metadata": {
        "id": "uToDHTUMQTnb"
      }
    },
    {
      "cell_type": "markdown",
      "source": [
        "19.Explain the purpose of ‘’__str__’ and ‘__repr__’ ‘ methods in Python?\n",
        "\n",
        "-_str_: Returns a user-friendly string representation of an object. It’s invoked when using print(object).\n",
        "\n",
        "_repr_: Returns a developer-oriented string (often used for debugging) that should ideally return a string that can recreate the object.\n",
        "If _str_ is not defined, Python uses _repr_ as a fallback.\n",
        "\n"
      ],
      "metadata": {
        "id": "BiNenxulQc3b"
      }
    },
    {
      "cell_type": "markdown",
      "source": [
        "20.What is the significance of the ‘super()’ function in Python?\n",
        "\n",
        "-super() is used to access methods from the parent class. It’s commonly used to call the parent’s constructor inside the child’s constructor, ensuring that inherited attributes are initialized.\n",
        "This is particularly useful in multiple inheritance scenarios to avoid calling parent constructors manually.\n",
        "\n",
        "\n"
      ],
      "metadata": {
        "id": "mf-Riv2zQlc8"
      }
    },
    {
      "cell_type": "markdown",
      "source": [
        "21.What is the significance of the __del__ method in Python?\n",
        "\n",
        "-del_ is the destructor method in Python. It’s automatically called when an object is about to be deleted or when it goes out of scope. It is mainly used for resource cleanup, like closing files or database connections.\n",
        "Caution: Its execution time is not guaranteed, as garbage collection is unpredictable.\n"
      ],
      "metadata": {
        "id": "vUa0e9PfQwd0"
      }
    },
    {
      "cell_type": "markdown",
      "source": [
        "22.What is the difference between @staticmethod and @classmethod in Python?\n",
        "\n",
        "-@staticmethod:\n",
        "\n",
        "Does not take self or cls.\n",
        "\n",
        "Cannot access or modify object/class state.\n",
        "\n",
        "Used when functionality is independent of class/object.\n",
        "\n",
        "\n",
        "@classmethod:\n",
        "\n",
        "Takes cls as the first parameter.\n",
        "\n",
        "Can access and modify class-level variables.\n",
        "Thus, classmethod has access to class state, while staticmethod does not.\n"
      ],
      "metadata": {
        "id": "k5-SK8mbQ6sP"
      }
    },
    {
      "cell_type": "markdown",
      "source": [
        "23.How does polymorphism work in Python with inheritance?\n",
        "\n",
        "-In inheritance, polymorphism allows the same method name to behave differently depending on whether it's called on a parent or child object. This is achieved through method overriding.\n",
        "For example, sound() in Animal behaves differently when overridden in Dog. This supports dynamic method dispatch."
      ],
      "metadata": {
        "id": "LEOiX4FyRG3c"
      }
    },
    {
      "cell_type": "markdown",
      "source": [
        "24.What is method chaining in Python OOP?\n",
        "\n",
        "-Method chaining is a technique where multiple methods are called sequentially in a single line. This is possible when each method returns self, allowing the next method to be invoked on the same object.\n",
        "This makes the code concise and fluent."
      ],
      "metadata": {
        "id": "kpfYl7ScRRXE"
      }
    },
    {
      "cell_type": "markdown",
      "source": [
        "25.What is the purpose of the __call__ method in Python?\n",
        "\n",
        "-The _call_ method allows an object to be called as if it were a function. If a class defines _call_, its objects can be invoked using parentheses.\n",
        "This is useful for function objects, callbacks, or custom callable behaviors."
      ],
      "metadata": {
        "id": "U2bO5qeIRYdL"
      }
    },
    {
      "cell_type": "code",
      "source": [
        "#1.Create a parent class Animal with a method speak() that prints a generic message. Create a child class Dog\n",
        "#that overrides the speak() method to print \"Bark!\".\n",
        "class Animal:\n",
        "    def speak(self):\n",
        "        print(\"Animal makes a sound\")\n",
        "\n",
        "class Dog(Animal):\n",
        "    def speak(self):\n",
        "        print(\"Bark!\")\n",
        "\n",
        "# Test\n",
        "a = Animal()\n",
        "d = Dog()\n",
        "a.speak()  # Animal makes a sound\n",
        "d.speak()  # Bark!"
      ],
      "metadata": {
        "id": "Vybb2TL1Rdld",
        "colab": {
          "base_uri": "https://localhost:8080/"
        },
        "outputId": "e002aa42-7679-4cb0-842d-862168f69063"
      },
      "execution_count": 113,
      "outputs": [
        {
          "output_type": "stream",
          "name": "stdout",
          "text": [
            "Animal makes a sound\n",
            "Bark!\n"
          ]
        }
      ]
    },
    {
      "cell_type": "code",
      "source": [
        "#2. Write a program to create an abstract class Shape with a method area(). Derive classes Circle and Rectangle\n",
        "#from it and implement the area() method in both.\n",
        "from abc import ABC, abstractmethod\n",
        "import math\n",
        "\n",
        "class Shape(ABC):\n",
        "    @abstractmethod\n",
        "    def area(self):\n",
        "        pass\n",
        "\n",
        "class Circle(Shape):\n",
        "    def __init__(self, radius):\n",
        "        self.radius = radius\n",
        "\n",
        "    def area(self):\n",
        "        return 3.14 * self.radius * self.radius\n",
        "\n",
        "class Rectangle:\n",
        "    def __init__(self, length, width):\n",
        "        self.length = length\n",
        "        self.width = width\n",
        "\n",
        "    def area(self):\n",
        "        return self.length * self.width\n",
        "\n",
        "c = Circle(5)\n",
        "r = Rectangle(4, 6)\n",
        "\n",
        "print(f\"Circle Area: {c.area():.2f}\")\n",
        "print(f\"Rectangle Area: {r.area()}\")\n",
        "\n"
      ],
      "metadata": {
        "id": "mIf8k4Jv3nfm",
        "colab": {
          "base_uri": "https://localhost:8080/"
        },
        "outputId": "4a01910d-025d-4739-b331-0e9b2d1b0581"
      },
      "execution_count": 114,
      "outputs": [
        {
          "output_type": "stream",
          "name": "stdout",
          "text": [
            "Circle Area: 78.50\n",
            "Rectangle Area: 24\n"
          ]
        }
      ]
    },
    {
      "cell_type": "code",
      "source": [
        "#3. Implement a multi-level inheritance scenario where a class Vehicle has an attribute type. Derive a class Car\n",
        "#and further derive a class ElectricCar that adds a battery attribute.\n",
        "class Vehicle:\n",
        "    def __init__(self, type):\n",
        "        self.type = type\n",
        "\n",
        "class Car:\n",
        "    def __init__(self, type, brand):\n",
        "        self.type = type\n",
        "        self.brand = brand\n",
        "\n",
        "class ElectricCar(Car):\n",
        "    def __init__(self, type, brand, battery):\n",
        "        super().__init__(type, brand)\n",
        "        self.battery = battery\n",
        "\n",
        "ec = ElectricCar(\"Four Wheeler\", \"Tesla\", \"100 kWh\")\n",
        "print(f\"Type: {ec.type}, Brand: {ec.brand}, Battery: {ec.battery}\")\n",
        "\n"
      ],
      "metadata": {
        "id": "_V1bTvOXRqsz",
        "colab": {
          "base_uri": "https://localhost:8080/"
        },
        "outputId": "2ee836e0-7d53-4a36-cdea-cdc3ff3db495"
      },
      "execution_count": 115,
      "outputs": [
        {
          "output_type": "stream",
          "name": "stdout",
          "text": [
            "Type: Four Wheeler, Brand: Tesla, Battery: 100 kWh\n"
          ]
        }
      ]
    },
    {
      "cell_type": "code",
      "source": [
        "#4.Demonstrate polymorphism by creating a base class Bird with a method fly(). Create two derived classes\n",
        "#Sparrow and Penguin that override the fly() method.\n",
        "class Bird:\n",
        "    def fly(self):\n",
        "        print(\"Bird is flying\")\n",
        "\n",
        "class Sparrow(Bird):\n",
        "    def fly(self):\n",
        "        print(\"Sparrow flies high in the sky\")\n",
        "\n",
        "class Penguin(Bird):\n",
        "    def fly(self):\n",
        "        print(\"Penguins cannot fly but they can swim\")\n",
        "\n",
        "birds = [Sparrow(), Penguin()]\n",
        "\n",
        "for bird in birds:\n",
        "    bird.fly()"
      ],
      "metadata": {
        "colab": {
          "base_uri": "https://localhost:8080/"
        },
        "id": "SIeUic_eHjai",
        "outputId": "d0332d3f-c7dc-4ea5-86b3-c3861cd856c0"
      },
      "execution_count": 116,
      "outputs": [
        {
          "output_type": "stream",
          "name": "stdout",
          "text": [
            "Sparrow flies high in the sky\n",
            "Penguins cannot fly but they can swim\n"
          ]
        }
      ]
    },
    {
      "cell_type": "code",
      "source": [
        "#5.Write a program to demonstrate encapsulation by creating a class BankAccount with private attributes\n",
        "#balance and methods to deposit, withdraw, and check balance.\n",
        "class BankAccount:\n",
        "    def __init__(self, balance):\n",
        "        self.__balance = balance\n",
        "\n",
        "    def deposit(self, amount):\n",
        "        self.__balance += amount\n",
        "\n",
        "    def withdraw(self, amount):\n",
        "        if amount <= self.__balance:\n",
        "            self.__balance -= amount\n",
        "        else:\n",
        "            print(\"Insufficient funds\")\n",
        "\n",
        "    def check_balance(self):\n",
        "        print(f\"Balance: ₹{self.__balance}\")\n",
        "\n",
        "# Output\n",
        "acc = BankAccount(1000)\n",
        "acc.deposit(500)\n",
        "acc.withdraw(300)\n",
        "acc.check_balance()"
      ],
      "metadata": {
        "colab": {
          "base_uri": "https://localhost:8080/"
        },
        "id": "KzdacajZTXjz",
        "outputId": "f2201d1a-1b56-46d1-9b61-46264ac5a143"
      },
      "execution_count": 117,
      "outputs": [
        {
          "output_type": "stream",
          "name": "stdout",
          "text": [
            "Balance: ₹1200\n"
          ]
        }
      ]
    },
    {
      "cell_type": "code",
      "source": [
        "#6. Demonstrate runtime polymorphism using a method play() in a base class Instrument. Derive classes Guitar\n",
        "#and Piano that implement their own version of play().\n",
        "class Instrument:\n",
        "    def play(self):\n",
        "        print(\"Playing the instrument\")\n",
        "\n",
        "class Guitar(Instrument):\n",
        "    def play(self):\n",
        "        print(\"Strumming the guitar \")\n",
        "\n",
        "class Piano(Instrument):\n",
        "    def play(self):\n",
        "        print(\"Playing the piano \")\n",
        "\n",
        "\n",
        "for instr in [Guitar(), Piano()]:\n",
        "    instr.play()"
      ],
      "metadata": {
        "colab": {
          "base_uri": "https://localhost:8080/"
        },
        "id": "OohUdYcpWW5C",
        "outputId": "c6233e76-5d7a-49f6-f61d-c684d9cf9b1e"
      },
      "execution_count": 118,
      "outputs": [
        {
          "output_type": "stream",
          "name": "stdout",
          "text": [
            "Strumming the guitar \n",
            "Playing the piano \n"
          ]
        }
      ]
    },
    {
      "cell_type": "code",
      "source": [
        "#7. Create a class MathOperations with a class method add_numbers() to add two numbers and a static\n",
        "#method subtract_numbers() to subtract two numbers.\n",
        "class MathOperations:\n",
        "    @classmethod\n",
        "    def add_numbers(cls, a, b):\n",
        "        return a + b\n",
        "\n",
        "    @staticmethod\n",
        "    def subtract_numbers(a, b):\n",
        "        return a - b\n",
        "\n",
        "# Output\n",
        "print(\"Add:\", MathOperations.add_numbers(5, 3))\n",
        "print(\"Subtract:\", MathOperations.subtract_numbers(10, 4))"
      ],
      "metadata": {
        "colab": {
          "base_uri": "https://localhost:8080/"
        },
        "id": "2HKm80W6WmlA",
        "outputId": "7ed370ee-5a73-40e4-eda5-84464d2761f4"
      },
      "execution_count": 119,
      "outputs": [
        {
          "output_type": "stream",
          "name": "stdout",
          "text": [
            "Add: 8\n",
            "Subtract: 6\n"
          ]
        }
      ]
    },
    {
      "cell_type": "code",
      "source": [
        "#8. Implement a class Person with a class method to count the total number of persons created\n",
        "class Person:\n",
        "    count = 0\n",
        "\n",
        "    def __init__(self, name):\n",
        "        self.name = name\n",
        "        Person.count += 1\n",
        "\n",
        "# Output\n",
        "p1 = Person(\"Alice\")\n",
        "p2 = Person(\"Bob\")\n",
        "p3 = Person(\"Charlie\")\n",
        "print(\"Total persons:\", Person.count)"
      ],
      "metadata": {
        "colab": {
          "base_uri": "https://localhost:8080/"
        },
        "id": "PoTiDL28W2uR",
        "outputId": "dd8764ff-9bd1-4564-ba66-d9cc30552e4b"
      },
      "execution_count": 120,
      "outputs": [
        {
          "output_type": "stream",
          "name": "stdout",
          "text": [
            "Total persons: 3\n"
          ]
        }
      ]
    },
    {
      "cell_type": "code",
      "source": [
        "#9.Write a class Fraction with attributes numerator and denominator. Override the str method to display the\n",
        "#fraction as \"numerator/denominator\".\n",
        "class Fraction:\n",
        "    def __init__(self, numerator, denominator):\n",
        "        self.numerator = numerator\n",
        "        self.denominator = denominator\n",
        "\n",
        "    def _str_(self):\n",
        "        return f\"{self.numerator}/{self.denominator}\"\n",
        "\n",
        "# Output\n",
        "f = Fraction(3, 4)\n",
        "print(\"Fraction:\", f)"
      ],
      "metadata": {
        "colab": {
          "base_uri": "https://localhost:8080/"
        },
        "id": "iQ5SNd5yXGzR",
        "outputId": "1bae233e-6ae3-410c-c8f3-cad2e84c126f"
      },
      "execution_count": 121,
      "outputs": [
        {
          "output_type": "stream",
          "name": "stdout",
          "text": [
            "Fraction: <__main__.Fraction object at 0x7cb7432c1cd0>\n"
          ]
        }
      ]
    },
    {
      "cell_type": "code",
      "source": [
        "#10. Demonstrate operator overloading by creating a class Vector and overriding the add method to add two\n",
        "#vectors.\n",
        "class Vector:\n",
        "    def __init__(self, x, y):\n",
        "        self.x = x\n",
        "        self.y = y\n",
        "\n",
        "    def __add__(self, other):\n",
        "        return Vector(self.x + other.x, self.y + other.y)\n",
        "\n",
        "    def __str__(self):\n",
        "        return f\"Vector({self.x}, {self.y})\"\n",
        "\n",
        "# Output\n",
        "v1 = Vector(2, 3)\n",
        "v2 = Vector(4, 1)\n",
        "v3 = v1 + v2\n",
        "print(v3)\n",
        "\n",
        "\n"
      ],
      "metadata": {
        "colab": {
          "base_uri": "https://localhost:8080/"
        },
        "id": "_AvsdKkqXRjB",
        "outputId": "0b98a9c2-d019-40f8-e05b-146de4daa611"
      },
      "execution_count": 122,
      "outputs": [
        {
          "output_type": "stream",
          "name": "stdout",
          "text": [
            "Vector(6, 4)\n"
          ]
        }
      ]
    },
    {
      "cell_type": "code",
      "source": [
        "#11.Create a class Person with attributes name and age. Add a method greet() that prints \"Hello, my name is\n",
        "#{name} and I am {age} years old.\"\n",
        "class Person:\n",
        "    def __init__(self, name, age):\n",
        "        self.name = name\n",
        "        self.age = age\n",
        "\n",
        "    def greet(self):\n",
        "        print(f\"Hello, my name is {self.name} and I am {self.age} years old.\")\n",
        "\n",
        "# Output\n",
        "p = Person(\"Sneha\", 22)\n",
        "p.greet()\n",
        "\n",
        "\n"
      ],
      "metadata": {
        "colab": {
          "base_uri": "https://localhost:8080/"
        },
        "id": "BTlU8mbXXhkB",
        "outputId": "18dff77c-e99b-4cb1-e7b7-9fd0d3e927fe"
      },
      "execution_count": 123,
      "outputs": [
        {
          "output_type": "stream",
          "name": "stdout",
          "text": [
            "Hello, my name is Sneha and I am 22 years old.\n"
          ]
        }
      ]
    },
    {
      "cell_type": "code",
      "source": [
        "#12. Implement a class Student with attributes name and grades. Create a method average_grade() to compute\n",
        "#the average of the grades.\n",
        "class Student:\n",
        "    def __init__(self, name, grades):\n",
        "        self.name = name\n",
        "        self.grades = grades\n",
        "\n",
        "    def average_grade(self):\n",
        "        return sum(self.grades) / len(self.grades)\n",
        "\n",
        "# Output\n",
        "s = Student(\"Sneha\", [85, 90, 78, 92])\n",
        "print(\"Average Grade:\", s.average_grade())"
      ],
      "metadata": {
        "colab": {
          "base_uri": "https://localhost:8080/"
        },
        "id": "NpKUNmW4XrIg",
        "outputId": "7d4b1f76-086f-4eaa-f5e9-f2e8358b2c04"
      },
      "execution_count": 124,
      "outputs": [
        {
          "output_type": "stream",
          "name": "stdout",
          "text": [
            "Average Grade: 86.25\n"
          ]
        }
      ]
    },
    {
      "cell_type": "code",
      "source": [
        "#13.Create a class Rectangle with methods set_dimensions() to set the dimensions and area() to calculate the\n",
        "#area.\n",
        "class Rectangle:\n",
        "    def set_dimensions(self, length, width):\n",
        "        self.length = length\n",
        "        self.width = width\n",
        "\n",
        "    def area(self):\n",
        "        return self.length * self.width\n",
        "\n",
        "# Output\n",
        "r = Rectangle()\n",
        "r.set_dimensions(5, 3)\n",
        "print(\"Area:\", r.area())"
      ],
      "metadata": {
        "colab": {
          "base_uri": "https://localhost:8080/"
        },
        "id": "eKm-1_z0Xu2Q",
        "outputId": "70363b2f-ac64-4106-8712-477d10a136b8"
      },
      "execution_count": 125,
      "outputs": [
        {
          "output_type": "stream",
          "name": "stdout",
          "text": [
            "Area: 15\n"
          ]
        }
      ]
    },
    {
      "cell_type": "code",
      "source": [
        "#14. Create a class Employee with a method calculate_salary() that computes the salary based on hours worked\n",
        "#and hourly rate. Create a derived class Manager that adds a bonus to the salary.\n",
        "class Employee:\n",
        "    def __init__(self, hours, rate):\n",
        "        self.hours = hours\n",
        "        self.rate = rate\n",
        "\n",
        "    def calculate_salary(self):\n",
        "        return self.hours * self.rate\n",
        "\n",
        "class Manager(Employee):\n",
        "    def __init__(self, hours, rate, bonus):\n",
        "        super().__init__(hours, rate)\n",
        "        self.bonus = bonus\n",
        "\n",
        "    def calculate_salary(self):\n",
        "        return super().calculate_salary() + self.bonus\n",
        "\n",
        "# Output\n",
        "e = Employee(40, 20)\n",
        "m = Manager(40, 20, 500)\n",
        "\n",
        "print(\"Employee Salary:\", e.calculate_salary())\n",
        "print(\"Manager Salary:\", m.calculate_salary())"
      ],
      "metadata": {
        "colab": {
          "base_uri": "https://localhost:8080/"
        },
        "id": "KYmdENGfXyy4",
        "outputId": "5c3bd3b5-7d23-4eef-92c5-01ccf384895a"
      },
      "execution_count": 126,
      "outputs": [
        {
          "output_type": "stream",
          "name": "stdout",
          "text": [
            "Employee Salary: 800\n",
            "Manager Salary: 1300\n"
          ]
        }
      ]
    },
    {
      "cell_type": "code",
      "source": [
        "#15.Create a class Product with attributes name, price, and quantity. Implement a method total_price() that\n",
        "#calculates the total price of the product.\n",
        "class Product:\n",
        "    def __init__(self, name, price, quantity):\n",
        "        self.name = name\n",
        "        self.price = price\n",
        "        self.quantity = quantity\n",
        "\n",
        "    def total_price(self):\n",
        "        return self.price * self.quantity\n",
        "\n",
        "# Output\n",
        "p = Product(\"Laptop\", 50000, 2)\n",
        "print(\"Total Price:\", p.total_price())"
      ],
      "metadata": {
        "colab": {
          "base_uri": "https://localhost:8080/"
        },
        "id": "QBjRHYvnX4Ag",
        "outputId": "77cde6bd-c435-4f53-c059-986775865cc8"
      },
      "execution_count": 127,
      "outputs": [
        {
          "output_type": "stream",
          "name": "stdout",
          "text": [
            "Total Price: 100000\n"
          ]
        }
      ]
    },
    {
      "cell_type": "code",
      "source": [
        "#16.Create a class Animal with an abstract method sound(). Create two derived classes Cow and Sheep that\n",
        "#implement the sound() method.\n",
        "from abc import ABC, abstractmethod\n",
        "\n",
        "class Animal(ABC):\n",
        "    @abstractmethod\n",
        "    def sound(self):\n",
        "        pass\n",
        "\n",
        "class Cow(Animal):\n",
        "    def sound(self):\n",
        "        print(\"Cow says Moo\")\n",
        "\n",
        "class Sheep(Animal):\n",
        "    def sound(self):\n",
        "        print(\"Sheep says Baa\")\n",
        "\n",
        "# Output\n",
        "c = Cow()\n",
        "s = Sheep()\n",
        "c.sound()\n",
        "s.sound()"
      ],
      "metadata": {
        "colab": {
          "base_uri": "https://localhost:8080/"
        },
        "id": "L1dqxixvX8Of",
        "outputId": "1cbb000c-ea8c-4e41-b0e6-7f9a9316a115"
      },
      "execution_count": 128,
      "outputs": [
        {
          "output_type": "stream",
          "name": "stdout",
          "text": [
            "Cow says Moo\n",
            "Sheep says Baa\n"
          ]
        }
      ]
    },
    {
      "cell_type": "code",
      "source": [
        "#17.Create a class Book with attributes title, author, and year_published. Add a method get_book_info() that\n",
        "#returns a formatted string with the book's details\n",
        "class Book:\n",
        "    def __init__(self, title, author, year_published):\n",
        "        self.title = title\n",
        "        self.author = author\n",
        "        self.year = year_published\n",
        "\n",
        "    def get_book_info(self):\n",
        "        return f\"'{self.title}' by {self.author}, published in {self.year}\"\n",
        "\n",
        "# Output\n",
        "b = Book(\"The Alchemist\", \"Paulo Coelho\", 1988)\n",
        "print(b.get_book_info())"
      ],
      "metadata": {
        "colab": {
          "base_uri": "https://localhost:8080/"
        },
        "id": "NP29Q30XYBgX",
        "outputId": "8c3268ce-ca8d-46bb-94f5-094e3c1ce4b1"
      },
      "execution_count": 129,
      "outputs": [
        {
          "output_type": "stream",
          "name": "stdout",
          "text": [
            "'The Alchemist' by Paulo Coelho, published in 1988\n"
          ]
        }
      ]
    },
    {
      "cell_type": "code",
      "source": [
        "#18.Create a class House with attributes address and price. Create a derived class Mansion that adds an\n",
        "#attribute number_of_rooms.\n",
        "class House:\n",
        "    def __init__(self, address, rooms):\n",
        "        self.address = address\n",
        "        self.rooms = rooms\n",
        "\n",
        "class Mansion(House):\n",
        "    def __init__(self, address, rooms, has_pool):\n",
        "        super().__init__(address, rooms)\n",
        "        self.has_pool = has_pool\n",
        "\n",
        "    def display(self):\n",
        "        print(f\"Address: {self.address}, Rooms: {self.rooms}, Pool: {self.has_pool}\")\n",
        "\n",
        "# Output\n",
        "m = Mansion(\"123 Rich St\", 10, True)\n",
        "m.display()"
      ],
      "metadata": {
        "colab": {
          "base_uri": "https://localhost:8080/"
        },
        "id": "qx3Q3DiJYFip",
        "outputId": "81e7afb6-55e5-404c-f338-2fbee36a4db1"
      },
      "execution_count": 130,
      "outputs": [
        {
          "output_type": "stream",
          "name": "stdout",
          "text": [
            "Address: 123 Rich St, Rooms: 10, Pool: True\n"
          ]
        }
      ]
    }
  ]
}